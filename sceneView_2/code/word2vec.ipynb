{
 "metadata": {
  "language_info": {
   "codemirror_mode": {
    "name": "ipython",
    "version": 3
   },
   "file_extension": ".py",
   "mimetype": "text/x-python",
   "name": "python",
   "nbconvert_exporter": "python",
   "pygments_lexer": "ipython3",
   "version": "3.8.3-final"
  },
  "orig_nbformat": 2,
  "kernelspec": {
   "name": "python38364bitbaseb24d290690d248b88531f174015fe47d",
   "display_name": "Python 3.8.3 64-bit ('base')"
  }
 },
 "nbformat": 4,
 "nbformat_minor": 2,
 "cells": [
  {
   "cell_type": "code",
   "execution_count": 39,
   "metadata": {},
   "outputs": [],
   "source": [
    "import gensim, logging"
   ]
  },
  {
   "cell_type": "code",
   "execution_count": null,
   "metadata": {},
   "outputs": [],
   "source": [
    "model = gensim.models.KeyedVectors.load_word2vec_format('GoogleNews-vectors-negative300.bin', binary=True)"
   ]
  },
  {
   "cell_type": "code",
   "execution_count": 38,
   "metadata": {
    "tags": []
   },
   "outputs": [
    {
     "output_type": "stream",
     "name": "stdout",
     "text": [
      "trophy\n",
      "---\n",
      "[('trophies', 0.809413492679596), ('Trophy', 0.6534663438796997), ('silverware', 0.6327273845672607), ('championship', 0.5760098099708557), ('Trophies', 0.5707807540893555), ('Lombardi_Trophy', 0.5639469027519226), ('title', 0.5639244318008423), ('Wanamaker_Trophy', 0.5633525848388672), ('Wannamaker_Trophy', 0.5569530129432678), ('trophy_aloft', 0.5530154705047607), ('crown', 0.5505391359329224), ('Vince_Lombardi_Trophy', 0.5498545169830322), ('Jules_Rimet_Trophy', 0.5344944000244141), ('statuette', 0.5329522490501404), ('prize', 0.5294681191444397), ('Claret_Jug', 0.5289260745048523), ('silver_salver', 0.5278879404067993), ('silver_chalice', 0.5275852084159851), ('Vince_Lombardi_trophy', 0.5240886211395264), ('Indignant_Chavez', 0.5233415365219116)]\n",
      "stoplight\n",
      "---\n",
      "[('stoplights', 0.7164041996002197), ('intersection', 0.669135332107544), ('crosswalk', 0.621679425239563), ('blinker', 0.6135945320129395), ('pedestrian_crosswalk', 0.578311562538147), ('busiest_intersections', 0.5738170146942139), ('Spoetzl_Brewery_ferments', 0.5673485994338989), ('railroad_crossing', 0.5595986247062683), ('lighted_crosswalk', 0.5577635765075684), ('pedestrian_crosswalks', 0.5477608442306519), ('signalized_intersection', 0.5466874837875366), ('exit_ramp', 0.5294855237007141), ('flashing_lights', 0.5287059545516968), ('crosswalks', 0.5267024040222168), ('frontage_road', 0.5235375165939331), ('roundabout', 0.5206426382064819), ('interesection', 0.5192084908485413), ('righthand_lane', 0.5159354209899902), ('brake_lights', 0.5143885016441345), ('offramp', 0.5110138058662415)]\n",
      "lamp\n",
      "---\n",
      "[('lamps', 0.7430713772773743), ('Rubbery_pizza_languishing', 0.592402994632721), ('tealight', 0.5723156929016113), ('candle', 0.5694510340690613), ('lantern', 0.5688028931617737), ('bulb', 0.5665534734725952), ('candleholder', 0.5622106790542603), ('sconce', 0.56000816822052), ('fluorescent_bulb', 0.5478653907775879), ('wall_sconce', 0.5446076393127441), ('Lamp', 0.5440621972084045), ('halogen_bulb', 0.5438436269760132), ('bedside_lamp', 0.5420779585838318), ('candelabra', 0.539867639541626), ('kerosene_lamp', 0.5380692481994629), ('LED_lights', 0.5378806591033936), ('florescent_tube', 0.5339679718017578), ('streetlamp', 0.5335096120834351), ('Anglepoise', 0.5331419706344604), ('LED_lamp', 0.5309303998947144)]\n",
      "clock\n",
      "---\n",
      "[('Clock', 0.5841172337532043), ('tick_tick_ticking', 0.5406745672225952), ('clocks', 0.5381193161010742), ('Canvassing_Board_declaration', 0.5333021879196167), ('Beetle_refrigerator_magnets', 0.5202281475067139), ('tackled_inbounds', 0.5082941651344299), ('Countdown_clocks', 0.495073139667511), ('CJ_Spiller_muffed_punt', 0.4923126697540283), ('clock_ticking', 0.4862960875034332), ('Brangelina_TMZ', 0.4830054044723511), ('oâ_€_™', 0.47913384437561035), ('L##_Timeout', 0.4779841899871826), ('Tick_tock', 0.47584056854248047), ('A##_Timeout', 0.473214328289032), ('stopwatch', 0.47207576036453247), ('tocking', 0.471210777759552), ('Demon_Deacons_milked', 0.4702121615409851), ('mobilizing_reservists', 0.4678862690925598), ('#-##_W##_Timeout', 0.4644424617290497), ('timeclock', 0.4631548523902893)]\n",
      "backpack\n",
      "---\n",
      "[('knapsack', 0.7521737217903137), ('duffel_bag', 0.7286889553070068), ('backpacks', 0.7207750082015991), ('duffle_bag', 0.7093858122825623), ('fanny_pack', 0.6956089735031128), ('rucksack', 0.6939660906791687), ('bookbag', 0.6838636994361877), ('daypack', 0.6685067415237427), ('backback', 0.6572332382202148), ('suitcase', 0.6553376913070679), ('satchel', 0.6500681638717651), ('bag', 0.6415843963623047), ('diaper_bag', 0.6378363370895386), ('briefcase', 0.6199108362197876), ('tote_bag', 0.6053873896598816), ('sleeping_bag', 0.603530764579773), ('pant_pocket', 0.5991188287734985), ('duffle_bags', 0.5907803773880005), ('messenger_bag', 0.590569019317627), ('haversack', 0.5845891237258911)]\n",
      "plant\n",
      "---\n",
      "[('plants', 0.810967743396759), ('Plant', 0.7019317150115967), ('factory', 0.6708794832229614), ('paperboard_mill', 0.5969303250312805), ('containerboard_mill', 0.5863690972328186), ('factories', 0.5769507884979248), ('megawatt_MW_biomass', 0.5585775971412659), ('refinery', 0.5582205057144165), ('Plants', 0.5573548078536987), ('mill', 0.5535970330238342), ('Wixom_assembly', 0.55133056640625), ('MMgy_plant', 0.5488943457603455), ('facility', 0.5381410121917725), ('Cement_Plant', 0.5377954244613647), ('papermill', 0.5368926525115967), ('Ravenna_Army_Ammunition', 0.5350843667984009), ('Tonawanda_Engine', 0.533474326133728), ('kraft_pulp_mill', 0.5325013399124146), ('Processing_Plant', 0.5314507484436035), ('Generating_Plant', 0.5305649042129517)]\n",
      "fan\n",
      "---\n",
      "[('fans', 0.7041827440261841), ('diehard_fan', 0.664218544960022), ('superfan', 0.6457433104515076), ('fanbase', 0.6445666551589966), ('Fan', 0.6322659254074097), ('fandom', 0.6242441534996033), ('ticket_holder', 0.5725551843643188), ('rabid_fan', 0.5609613656997681), ('fanatic', 0.5464170575141907), ('diehard_fans', 0.5392537713050842), ('fan_atic', 0.5321807265281677), ('devotee', 0.5235833525657654), ('fanbases', 0.5221074223518372), ('diehard', 0.5149767398834229), ('supporter', 0.5075210928916931), ('fanship', 0.5063478350639343), ('Fans', 0.5039758682250977), (\"I'ma_diehard\", 0.500421941280365), ('follower', 0.49258485436439514), ('researcher_Sarmadi', 0.49179691076278687)]\n",
      "boots\n",
      "---\n",
      "[('shoes', 0.6998361349105835), ('leather_boots', 0.6356616616249084), ('hiking_boots', 0.616000235080719), ('socks', 0.6019834280014038), ('sandals', 0.5962719917297363), ('sneakers', 0.5864862203598022), ('cleats', 0.5857619047164917), ('rubber_soled', 0.5804431438446045), ('hob_nailed', 0.5797592401504517), ('cowboy_boots', 0.5786421895027161), ('mountaineering_boots', 0.57853102684021), ('wellington_boots', 0.5704368948936462), ('suede_boots', 0.5693131685256958), ('Timberland_boots', 0.5628465414047241), ('overshoes', 0.5624285936355591), ('plimsolls', 0.5588048696517944), ('booties', 0.5578631162643433), ('Bruno_Maglis', 0.5565692186355591), ('sandshoes', 0.5562456846237183), ('gaiters', 0.5561059713363647)]\n",
      "hoop\n",
      "---\n",
      "[('basket', 0.6555075645446777), ('dunk', 0.6457670331001282), ('jumpshot', 0.6293088793754578), ('hoops', 0.6252737045288086), ('rim', 0.6132186651229858), ('dribble', 0.6046216487884521), ('jumpers', 0.594922661781311), ('layin', 0.5917623043060303), ('alley_oop', 0.5873405933380127), ('dunks', 0.5844821929931641), ('layups', 0.5826713442802429), ('fastbreak', 0.5794328451156616), ('backboard', 0.5788833498954773), ('layup', 0.5780870914459229), ('tomahawk_dunk', 0.5752076506614685), ('emphatic_slam', 0.5728027820587158), ('fadeway', 0.5700139999389648), ('midrange_jumper', 0.5699833631515503), ('reverse_layup', 0.5670556426048279), ('jumpshots', 0.562786877155304)]\n",
      "tree\n",
      "---\n",
      "[('trees', 0.8293122053146362), ('pine_tree', 0.7622087001800537), ('oak_tree', 0.731893002986908), ('evergreen_tree', 0.6926872730255127), ('fir_tree', 0.6917217969894409), ('willow_tree', 0.6845874190330505), ('pine_trees', 0.6824266910552979), ('maple_tree', 0.6803498268127441), ('sycamore_tree', 0.6681811213493347), ('tress', 0.6547873020172119), ('pecan_tree', 0.6464594602584839), ('birch_tree', 0.6464136838912964), ('tree_trunk', 0.644971489906311), ('cedar_tree', 0.6443991661071777), ('beech_tree', 0.6379713416099548), ('dogwood_tree', 0.63704514503479), ('holly_tree', 0.6341171264648438), ('laurel_oak', 0.6294743418693542), ('conifer', 0.6285437345504761), ('oak_trees', 0.6229775547981262)]\n",
      "hammer\n",
      "---\n",
      "[('Gayl_disclosures', 0.5894008874893188), ('hammers', 0.5586285591125488), ('sickle_emblem', 0.5524622201919556), ('sledgehammer', 0.540276288986206), ('sickle_insignia', 0.5328645706176758), ('sledge_hammer', 0.5166705846786499), ('crowbar', 0.5045583844184875), ('thrash', 0.5012516975402832), ('mallet', 0.4874328076839447), ('hammering', 0.48406073451042175), ('fatally_bludgeon', 0.4756452441215515), ('wrench', 0.47318434715270996), ('claw_toothed', 0.4729527235031128), ('Bugatti_Type_##S', 0.4697777330875397), ('claw_hammers', 0.46722087264060974), ('bludgeon', 0.46342259645462036), ('chisel', 0.4591967463493347), ('claw_hammer', 0.4508989453315735), ('splitting_maul', 0.4487937092781067), ('crow_bar', 0.4484919607639313)]\n",
      "piano\n",
      "---\n",
      "[('violin', 0.8228187561035156), ('cello', 0.8113836050033569), ('clarinet', 0.775692343711853), ('saxophone', 0.7755719423294067), ('pianist', 0.7373092174530029), ('trombone', 0.7362412214279175), ('harpsichord', 0.7311612963676453), ('pianos', 0.7288244962692261), ('guitar', 0.7262812852859497), ('classical_guitar', 0.7254635095596313), ('viola', 0.722144365310669), ('harmonica', 0.7180488109588623), ('flute', 0.7112898230552673), ('acoustic_guitar', 0.7103325724601746), ('oboe', 0.7086855173110962), ('bassoon', 0.702364981174469), ('sax', 0.7000388503074646), ('vibraphone', 0.6986986994743347), ('alto_saxophone', 0.6980401277542114), ('baritone_saxophone', 0.6959566473960876)]\n",
      "scissors\n",
      "---\n",
      "[('pliers', 0.6052840948104858), ('scissor', 0.6048523187637329), ('Exacto_knife', 0.6022087335586548), ('X_acto_knife', 0.5979666709899902), ('razor_blade', 0.5978941321372986), ('knife', 0.5916409492492676), ('knives', 0.5914763808250427), ('serrated_knife', 0.5864142179489136), ('pinking_shears', 0.5826912522315979), ('pruning_shears', 0.5775802731513977), ('nail_clipper', 0.5772652626037598), ('sewing_scissors', 0.5771840214729309), ('fingernail_clippers', 0.5757880210876465), ('X_Acto_knife', 0.5730330944061279), ('tweezers', 0.5657497644424438), ('penknife', 0.5640251040458679), ('serrated_steak_knife', 0.5611135363578796), ('manicure_scissors', 0.5579650402069092), ('exacto_knife', 0.5530226230621338), ('needle_nose_pliers', 0.5517885684967041)]\n",
      "chair\n",
      "---\n",
      "[('chairs', 0.7871319055557251), ('Chair', 0.7488438487052917), ('chairperson', 0.6301863193511963), ('chairwoman', 0.6271359920501709), ('chairman', 0.6161440014839172), ('Vice_Chair', 0.5646666288375854), ('Co_Chair', 0.5469810366630554), ('chairing', 0.5431761741638184), ('Chairs', 0.5395591259002686), ('cochair', 0.5284921526908875), ('Chairperson', 0.5218346118927002), ('chariman', 0.510613203048706), ('chaired', 0.508589506149292), ('member', 0.4992403984069824), ('chairmanship', 0.4964214265346527), ('cochairs', 0.49159592390060425), ('director', 0.4869970679283142), ('cochairman', 0.47974392771720886), ('convener', 0.4783288836479187), ('head', 0.47800153493881226)]\n",
      "camera\n",
      "---\n",
      "[('cameras', 0.8131939172744751), ('Wagging_finger', 0.7311819791793823), ('camera_lens', 0.7250816822052002), ('camcorder', 0.7037475109100342), ('Camera', 0.6848659515380859), ('Canon_digital_SLR', 0.6474252343177795), ('Cameras', 0.6350969076156616), ('Nikon_D####_digital_SLR', 0.6259366869926453), ('tripod', 0.618983805179596), ('EyeToy_USB', 0.6173486709594727), ('Nikon_D##_digital_SLR', 0.6145804524421692), ('videocamera', 0.6136051416397095), ('eyepiece_viewfinder', 0.6123689413070679), ('videocam', 0.6105575561523438), ('compact_digicam', 0.6090540289878845), ('#.#mp', 0.6048357486724854), ('zoom_lens', 0.6034137606620789), ('Nikon_Coolpix_S1', 0.6016290783882141), ('Canon_SLR', 0.6003719568252563), ('digicam', 0.5994064807891846)]\n",
      "bottle\n",
      "---\n",
      "[('bottles', 0.8106201887130737), ('jug', 0.6945108771324158), ('###ml_bottle', 0.6480175852775574), ('corked_bottle', 0.638135552406311), ('##cl_bottle', 0.6309486627578735), ('carafe', 0.625845193862915), ('brandy_snifter', 0.6181496381759644), ('gallon_jug', 0.6143518686294556), ('decanter', 0.6073787212371826), ('###ml_bottles', 0.603619396686554), ('milliliter_bottle', 0.6014900207519531), ('proverbial_genie', 0.5945215821266174), ('unopened_bottle', 0.594329297542572), ('ml_bottle', 0.5914930105209351), ('jar', 0.5903206467628479), ('vodka_bottle', 0.5874568223953247), ('cans', 0.5874468684196472), ('carton', 0.586189866065979), ('pint_glass', 0.5852302312850952), ('flask', 0.5830106735229492)]\n",
      "cat\n",
      "---\n",
      "[('cats', 0.8099379539489746), ('dog', 0.7609457969665527), ('kitten', 0.7464984655380249), ('feline', 0.7326234579086304), ('beagle', 0.7150583267211914), ('puppy', 0.7075453400611877), ('pup', 0.6934291124343872), ('pet', 0.6891531348228455), ('felines', 0.6755931377410889), ('chihuahua', 0.6709762215614319), ('pooch', 0.6699832677841187), ('kitties', 0.6669641137123108), ('dachshund', 0.6655782461166382), ('poodle', 0.6621246933937073), ('stray_cat', 0.6616333723068237), ('Shih_Tzu', 0.6573935151100159), ('tabby', 0.6555001735687256), ('basset_hound', 0.652544379234314), ('golden_retriever', 0.6522623896598816), ('Siamese_cat', 0.6521711349487305)]\n",
      "keys\n",
      "---\n",
      "[('passkey', 0.5177095532417297), ('keycards', 0.5009613037109375), ('key_fob', 0.49700748920440674), ('Keyless_entry', 0.4854416847229004), ('wallets_briefcases', 0.4813433289527893), ('programmable_shortcut', 0.47879311442375183), ('keycard', 0.4680419862270355), ('wallet', 0.4567476511001587), ('unlocked', 0.4529240131378174), ('stereo_faceplate', 0.4525558352470398), ('Zipcard', 0.45037561655044556), ('unscrambling_DVDs_allows', 0.4474886357784271), ('relocked', 0.44697824120521545), ('Fn_key', 0.4424314498901367), ('padlock', 0.4410973787307739), ('billfold', 0.44050148129463196), ('Num_Lock', 0.4394693970680237), ('backspace', 0.43873700499534607), ('briefcase', 0.43744540214538574), ('jimmying', 0.4295383095741272)]\n",
      "laptop\n",
      "---\n",
      "[('laptops', 0.805374026298523), ('laptop_computer', 0.7848465442657471), ('notebook', 0.67857825756073), ('netbook', 0.6707929372787476), ('computer', 0.6640493273735046), ('laptop_computers', 0.6633790731430054), ('notebook_PC', 0.6631842851638794), ('MacBook', 0.6598750352859497), ('PowerBook', 0.6520565152168274), ('Sony_Vaio_laptop', 0.6496157646179199), ('notebooks', 0.6491786241531372), ('Macbook', 0.6486797332763672), ('Laptop', 0.648013710975647), ('IBM_ThinkPad_T##', 0.6193387508392334), ('MacBook_Pro', 0.6187069416046143), ('Dell_Latitude_D###', 0.6164904832839966), ('Macbook_Pro', 0.6115914583206177), ('computers', 0.6102420091629028), ('Dell_Inspiron_laptop', 0.6090463399887085), ('notebook_computers', 0.607465386390686)]\n",
      "mug\n",
      "---\n",
      "[('coffee_mug', 0.6172524690628052), ('mugshot', 0.6114739775657654), ('mugs', 0.6063777804374695), ('pint_glass', 0.5298572778701782), ('mugshots', 0.5195839405059814), ('mug_shots', 0.5108582973480225), ('photograph', 0.5100713968276978), ('ceramic_mug', 0.506507158279419), ('photo', 0.506373941898346), ('jug', 0.5030136704444885), ('brandy_snifter', 0.4986412525177002), ('shot_fingerprint_Livescan', 0.49385929107666016), ('souvenir_mug', 0.48767319321632385), ('visage', 0.48287221789360046), ('skim_latte', 0.47972604632377625), ('Brugo', 0.477068692445755), ('Styrofoam_cup', 0.4764443039894104), ('flask', 0.4735574722290039), ('steaming_cup', 0.4718724191188812), ('Mug', 0.47047191858291626)]\n"
     ]
    }
   ],
   "source": [
    "words = ['trophy', 'stoplight', 'lamp', 'clock', 'backpack', 'plant', 'fan', 'boots', 'hoop', 'tree', \n",
    "'hammer', 'piano', 'scissors', 'chair', 'camera', 'bottle', 'cat', 'keys', 'laptop', 'mug']\n",
    "\n",
    "for word in words: \n",
    "    print(word)\n",
    "    print('---')\n",
    "    print(model.most_similar(positive=[word], topn=20)); \n"
   ]
  },
  {
   "cell_type": "code",
   "execution_count": null,
   "metadata": {},
   "outputs": [],
   "source": []
  }
 ]
}